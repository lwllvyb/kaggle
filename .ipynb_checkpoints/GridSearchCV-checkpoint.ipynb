{
 "cells": [
  {
   "cell_type": "code",
   "execution_count": 8,
   "metadata": {
    "collapsed": false
   },
   "outputs": [],
   "source": [
    "import pandas\n",
    "import numpy as np\n",
    "import xgboost as xgb\n",
    "from sklearn import cross_validation\n",
    "from sklearn import metrics\n",
    "from sklearn import grid_search\n",
    "from sklearn.linear_model import LogisticRegression\n",
    "from sklearn.ensemble import ExtraTreesClassifier, RandomForestClassifier, GradientBoostingClassifier\n",
    "from sklearn.tree import DecisionTreeClassifier\n",
    "from sklearn.cross_validation import StratifiedKFold, train_test_split, KFold\n",
    "url = \"https://archive.ics.uci.edu/ml/machine-learning-databases/pima-indians-diabetes/pima-indians-diabetes.data\"\n",
    "names = ['preg', 'plas', 'pres', 'skin', 'test', 'mass', 'pedi', 'age', 'class']\n",
    "dataframe = pandas.read_csv(url, names=names)\n",
    "array = dataframe.values"
   ]
  },
  {
   "cell_type": "code",
   "execution_count": 9,
   "metadata": {
    "collapsed": true
   },
   "outputs": [],
   "source": [
    "X = array[:,:-1]\n",
    "y = array[:, -1]"
   ]
  },
  {
   "cell_type": "code",
   "execution_count": 10,
   "metadata": {
    "collapsed": false
   },
   "outputs": [],
   "source": [
    "train_X, test_X, train_y, test_y = train_test_split(X, y, test_size=.4, random_state=2016)"
   ]
  },
  {
   "cell_type": "code",
   "execution_count": 16,
   "metadata": {
    "collapsed": false
   },
   "outputs": [],
   "source": [
    "rfc = RandomForestClassifier()\n",
    "etc = ExtraTreesClassifier()"
   ]
  },
  {
   "cell_type": "code",
   "execution_count": 36,
   "metadata": {
    "collapsed": false
   },
   "outputs": [
    {
     "name": "stdout",
     "output_type": "stream",
     "text": [
      "Fitting 10 folds for each of 4 candidates, totalling 40 fits\n",
      "[CV] max_features=8, n_estimators=300, criterion=gini ................\n",
      "[CV]  max_features=8, n_estimators=300, criterion=gini, score=0.782353 -   1.5s\n",
      "[CV] max_features=8, n_estimators=300, criterion=gini ................\n"
     ]
    },
    {
     "name": "stderr",
     "output_type": "stream",
     "text": [
      "[Parallel(n_jobs=1)]: Done   1 out of   1 | elapsed:    1.5s remaining:    0.0s\n"
     ]
    },
    {
     "name": "stdout",
     "output_type": "stream",
     "text": [
      "[CV]  max_features=8, n_estimators=300, criterion=gini, score=0.899020 -   1.2s\n",
      "[CV] max_features=8, n_estimators=300, criterion=gini ................\n"
     ]
    },
    {
     "name": "stderr",
     "output_type": "stream",
     "text": [
      "[Parallel(n_jobs=1)]: Done   2 out of   2 | elapsed:    2.7s remaining:    0.0s\n"
     ]
    },
    {
     "name": "stdout",
     "output_type": "stream",
     "text": [
      "[CV]  max_features=8, n_estimators=300, criterion=gini, score=0.851927 -   1.3s\n",
      "[CV] max_features=8, n_estimators=300, criterion=gini ................\n"
     ]
    },
    {
     "name": "stderr",
     "output_type": "stream",
     "text": [
      "[Parallel(n_jobs=1)]: Done   3 out of   3 | elapsed:    4.1s remaining:    0.0s\n"
     ]
    },
    {
     "name": "stdout",
     "output_type": "stream",
     "text": [
      "[CV]  max_features=8, n_estimators=300, criterion=gini, score=0.860041 -   1.2s\n",
      "[CV] max_features=8, n_estimators=300, criterion=gini ................\n"
     ]
    },
    {
     "name": "stderr",
     "output_type": "stream",
     "text": [
      "[Parallel(n_jobs=1)]: Done   4 out of   4 | elapsed:    5.3s remaining:    0.0s\n"
     ]
    },
    {
     "name": "stdout",
     "output_type": "stream",
     "text": [
      "[CV]  max_features=8, n_estimators=300, criterion=gini, score=0.838742 -   1.2s\n",
      "[CV] max_features=8, n_estimators=300, criterion=gini ................\n"
     ]
    },
    {
     "name": "stderr",
     "output_type": "stream",
     "text": [
      "[Parallel(n_jobs=1)]: Done   5 out of   5 | elapsed:    6.5s remaining:    0.0s\n"
     ]
    },
    {
     "name": "stdout",
     "output_type": "stream",
     "text": [
      "[CV]  max_features=8, n_estimators=300, criterion=gini, score=0.903651 -   1.2s\n",
      "[CV] max_features=8, n_estimators=300, criterion=gini ................\n"
     ]
    },
    {
     "name": "stderr",
     "output_type": "stream",
     "text": [
      "[Parallel(n_jobs=1)]: Done   6 out of   6 | elapsed:    7.7s remaining:    0.0s\n"
     ]
    },
    {
     "name": "stdout",
     "output_type": "stream",
     "text": [
      "[CV]  max_features=8, n_estimators=300, criterion=gini, score=0.643002 -   1.2s\n",
      "[CV] max_features=8, n_estimators=300, criterion=gini ................\n"
     ]
    },
    {
     "name": "stderr",
     "output_type": "stream",
     "text": [
      "[Parallel(n_jobs=1)]: Done   7 out of   7 | elapsed:    8.9s remaining:    0.0s\n"
     ]
    },
    {
     "name": "stdout",
     "output_type": "stream",
     "text": [
      "[CV]  max_features=8, n_estimators=300, criterion=gini, score=0.757606 -   1.2s\n",
      "[CV] max_features=8, n_estimators=300, criterion=gini ................\n"
     ]
    },
    {
     "name": "stderr",
     "output_type": "stream",
     "text": [
      "[Parallel(n_jobs=1)]: Done   8 out of   8 | elapsed:   10.1s remaining:    0.0s\n"
     ]
    },
    {
     "name": "stdout",
     "output_type": "stream",
     "text": [
      "[CV]  max_features=8, n_estimators=300, criterion=gini, score=0.757543 -   1.3s\n",
      "[CV] max_features=8, n_estimators=300, criterion=gini ................\n"
     ]
    },
    {
     "name": "stderr",
     "output_type": "stream",
     "text": [
      "[Parallel(n_jobs=1)]: Done   9 out of   9 | elapsed:   11.4s remaining:    0.0s\n"
     ]
    },
    {
     "name": "stdout",
     "output_type": "stream",
     "text": [
      "[CV]  max_features=8, n_estimators=300, criterion=gini, score=0.936422 -   1.2s\n",
      "[CV] max_features=8, n_estimators=500, criterion=gini ................\n"
     ]
    },
    {
     "name": "stderr",
     "output_type": "stream",
     "text": [
      "[Parallel(n_jobs=1)]: Done  10 out of  10 | elapsed:   12.6s remaining:    0.0s\n"
     ]
    },
    {
     "name": "stdout",
     "output_type": "stream",
     "text": [
      "[CV]  max_features=8, n_estimators=500, criterion=gini, score=0.800980 -   2.0s\n",
      "[CV] max_features=8, n_estimators=500, criterion=gini ................\n"
     ]
    },
    {
     "name": "stderr",
     "output_type": "stream",
     "text": [
      "[Parallel(n_jobs=1)]: Done  11 out of  11 | elapsed:   14.6s remaining:    0.0s\n"
     ]
    },
    {
     "name": "stdout",
     "output_type": "stream",
     "text": [
      "[CV]  max_features=8, n_estimators=500, criterion=gini, score=0.905882 -   2.0s\n",
      "[CV] max_features=8, n_estimators=500, criterion=gini ................\n"
     ]
    },
    {
     "name": "stderr",
     "output_type": "stream",
     "text": [
      "[Parallel(n_jobs=1)]: Done  12 out of  12 | elapsed:   16.5s remaining:    0.0s\n"
     ]
    },
    {
     "name": "stdout",
     "output_type": "stream",
     "text": [
      "[CV]  max_features=8, n_estimators=500, criterion=gini, score=0.866126 -   2.0s\n",
      "[CV] max_features=8, n_estimators=500, criterion=gini ................\n"
     ]
    },
    {
     "name": "stderr",
     "output_type": "stream",
     "text": [
      "[Parallel(n_jobs=1)]: Done  13 out of  13 | elapsed:   18.6s remaining:    0.0s\n"
     ]
    },
    {
     "name": "stdout",
     "output_type": "stream",
     "text": [
      "[CV]  max_features=8, n_estimators=500, criterion=gini, score=0.858012 -   2.1s\n",
      "[CV] max_features=8, n_estimators=500, criterion=gini ................\n"
     ]
    },
    {
     "name": "stderr",
     "output_type": "stream",
     "text": [
      "[Parallel(n_jobs=1)]: Done  14 out of  14 | elapsed:   20.7s remaining:    0.0s\n"
     ]
    },
    {
     "name": "stdout",
     "output_type": "stream",
     "text": [
      "[CV]  max_features=8, n_estimators=500, criterion=gini, score=0.828600 -   2.0s\n",
      "[CV] max_features=8, n_estimators=500, criterion=gini ................\n"
     ]
    },
    {
     "name": "stderr",
     "output_type": "stream",
     "text": [
      "[Parallel(n_jobs=1)]: Done  15 out of  15 | elapsed:   22.7s remaining:    0.0s\n"
     ]
    },
    {
     "name": "stdout",
     "output_type": "stream",
     "text": [
      "[CV]  max_features=8, n_estimators=500, criterion=gini, score=0.906694 -   2.0s\n",
      "[CV] max_features=8, n_estimators=500, criterion=gini ................\n"
     ]
    },
    {
     "name": "stderr",
     "output_type": "stream",
     "text": [
      "[Parallel(n_jobs=1)]: Done  16 out of  16 | elapsed:   24.6s remaining:    0.0s\n"
     ]
    },
    {
     "name": "stdout",
     "output_type": "stream",
     "text": [
      "[CV]  max_features=8, n_estimators=500, criterion=gini, score=0.644016 -   1.9s\n",
      "[CV] max_features=8, n_estimators=500, criterion=gini ................\n"
     ]
    },
    {
     "name": "stderr",
     "output_type": "stream",
     "text": [
      "[Parallel(n_jobs=1)]: Done  17 out of  17 | elapsed:   26.6s remaining:    0.0s\n"
     ]
    },
    {
     "name": "stdout",
     "output_type": "stream",
     "text": [
      "[CV]  max_features=8, n_estimators=500, criterion=gini, score=0.768763 -   2.0s\n",
      "[CV] max_features=8, n_estimators=500, criterion=gini ................\n"
     ]
    },
    {
     "name": "stderr",
     "output_type": "stream",
     "text": [
      "[Parallel(n_jobs=1)]: Done  18 out of  18 | elapsed:   28.6s remaining:    0.0s\n"
     ]
    },
    {
     "name": "stdout",
     "output_type": "stream",
     "text": [
      "[CV]  max_features=8, n_estimators=500, criterion=gini, score=0.755388 -   2.0s\n",
      "[CV] max_features=8, n_estimators=500, criterion=gini ................\n"
     ]
    },
    {
     "name": "stderr",
     "output_type": "stream",
     "text": [
      "[Parallel(n_jobs=1)]: Done  19 out of  19 | elapsed:   30.5s remaining:    0.0s\n"
     ]
    },
    {
     "name": "stdout",
     "output_type": "stream",
     "text": [
      "[CV]  max_features=8, n_estimators=500, criterion=gini, score=0.933190 -   2.0s\n",
      "[CV] max_features=8, n_estimators=300, criterion=entropy .............\n",
      "[CV]  max_features=8, n_estimators=300, criterion=entropy, score=0.800000 -   1.2s\n",
      "[CV] max_features=8, n_estimators=300, criterion=entropy .............\n",
      "[CV]  max_features=8, n_estimators=300, criterion=entropy, score=0.902941 -   1.3s\n",
      "[CV] max_features=8, n_estimators=300, criterion=entropy .............\n",
      "[CV]  max_features=8, n_estimators=300, criterion=entropy, score=0.861055 -   1.2s\n",
      "[CV] max_features=8, n_estimators=300, criterion=entropy .............\n",
      "[CV]  max_features=8, n_estimators=300, criterion=entropy, score=0.853955 -   1.2s\n",
      "[CV] max_features=8, n_estimators=300, criterion=entropy .............\n",
      "[CV]  max_features=8, n_estimators=300, criterion=entropy, score=0.823529 -   1.2s\n",
      "[CV] max_features=8, n_estimators=300, criterion=entropy .............\n",
      "[CV]  max_features=8, n_estimators=300, criterion=entropy, score=0.900609 -   1.2s\n",
      "[CV] max_features=8, n_estimators=300, criterion=entropy .............\n",
      "[CV]  max_features=8, n_estimators=300, criterion=entropy, score=0.654158 -   1.3s\n",
      "[CV] max_features=8, n_estimators=300, criterion=entropy .............\n",
      "[CV]  max_features=8, n_estimators=300, criterion=entropy, score=0.756592 -   1.2s\n",
      "[CV] max_features=8, n_estimators=300, criterion=entropy .............\n",
      "[CV]  max_features=8, n_estimators=300, criterion=entropy, score=0.760776 -   1.2s\n",
      "[CV] max_features=8, n_estimators=300, criterion=entropy .............\n",
      "[CV]  max_features=8, n_estimators=300, criterion=entropy, score=0.938578 -   1.2s\n",
      "[CV] max_features=8, n_estimators=500, criterion=entropy .............\n",
      "[CV]  max_features=8, n_estimators=500, criterion=entropy, score=0.800000 -   2.0s\n",
      "[CV] max_features=8, n_estimators=500, criterion=entropy .............\n",
      "[CV]  max_features=8, n_estimators=500, criterion=entropy, score=0.906863 -   2.0s\n",
      "[CV] max_features=8, n_estimators=500, criterion=entropy .............\n",
      "[CV]  max_features=8, n_estimators=500, criterion=entropy, score=0.849899 -   2.0s\n",
      "[CV] max_features=8, n_estimators=500, criterion=entropy .............\n",
      "[CV]  max_features=8, n_estimators=500, criterion=entropy, score=0.852941 -   2.1s\n",
      "[CV] max_features=8, n_estimators=500, criterion=entropy .............\n",
      "[CV]  max_features=8, n_estimators=500, criterion=entropy, score=0.837728 -   2.0s\n",
      "[CV] max_features=8, n_estimators=500, criterion=entropy .............\n",
      "[CV]  max_features=8, n_estimators=500, criterion=entropy, score=0.902637 -   2.0s\n",
      "[CV] max_features=8, n_estimators=500, criterion=entropy .............\n",
      "[CV]  max_features=8, n_estimators=500, criterion=entropy, score=0.636917 -   2.0s\n",
      "[CV] max_features=8, n_estimators=500, criterion=entropy .............\n",
      "[CV]  max_features=8, n_estimators=500, criterion=entropy, score=0.765720 -   2.0s\n",
      "[CV] max_features=8, n_estimators=500, criterion=entropy .............\n",
      "[CV]  max_features=8, n_estimators=500, criterion=entropy, score=0.759698 -   2.0s\n",
      "[CV] max_features=8, n_estimators=500, criterion=entropy .............\n",
      "[CV]  max_features=8, n_estimators=500, criterion=entropy, score=0.932112 -   2.0s\n"
     ]
    },
    {
     "name": "stderr",
     "output_type": "stream",
     "text": [
      "[Parallel(n_jobs=1)]: Done  40 out of  40 | elapsed:  1.1min finished\n"
     ]
    },
    {
     "data": {
      "text/plain": [
       "GridSearchCV(cv=10, error_score='raise',\n",
       "       estimator=ExtraTreesClassifier(bootstrap=False, class_weight=None, criterion='gini',\n",
       "           max_depth=None, max_features='auto', max_leaf_nodes=None,\n",
       "           min_impurity_split=1e-07, min_samples_leaf=1,\n",
       "           min_samples_split=2, min_weight_fraction_leaf=0.0,\n",
       "           n_estimators=10, n_jobs=1, oob_score=False, random_state=None,\n",
       "           verbose=0, warm_start=False),\n",
       "       fit_params={}, iid=True, n_jobs=1,\n",
       "       param_grid={'n_estimators': [300, 500], 'max_features': [8], 'criterion': ['gini', 'entropy']},\n",
       "       pre_dispatch='2*n_jobs', refit=True, scoring='roc_auc', verbose=20)"
      ]
     },
     "execution_count": 36,
     "metadata": {},
     "output_type": "execute_result"
    }
   ],
   "source": [
    "param_grid = {'n_estimators': [300, 500], \n",
    "              'max_features': [8],\n",
    "              'criterion'   : [\"gini\", \"entropy\"]\n",
    "             }\n",
    "model = grid_search.GridSearchCV(estimator=etc, param_grid=param_grid, n_jobs=1, cv=10, verbose=20, scoring=\"roc_auc\")\n",
    "model.fit(train_X, train_y)"
   ]
  },
  {
   "cell_type": "code",
   "execution_count": 37,
   "metadata": {
    "collapsed": false
   },
   "outputs": [
    {
     "name": "stdout",
     "output_type": "stream",
     "text": [
      "{'max_features': 8, 'n_estimators': 500, 'criterion': 'gini'}\n",
      "0.826804878811\n"
     ]
    }
   ],
   "source": [
    "print model.best_params_\n",
    "print model.best_score_"
   ]
  },
  {
   "cell_type": "code",
   "execution_count": null,
   "metadata": {
    "collapsed": false,
    "scrolled": true
   },
   "outputs": [
    {
     "name": "stdout",
     "output_type": "stream",
     "text": [
      "Fitting 10 folds for each of 4 candidates, totalling 40 fits\n",
      "[CV] colsample_bytree=0.7, silent=1, learning_rate=0.3, nthread=4, min_child_weight=3, n_estimators=50, subsample=0.7, seed=1337, objective=binary:logistic, max_depth=5 \n",
      "[CV] colsample_bytree=0.7, silent=1, learning_rate=0.3, nthread=4, min_child_weight=3, n_estimators=50, subsample=0.7, seed=1337, objective=binary:logistic, max_depth=5 \n",
      "[CV] colsample_bytree=0.7, silent=1, learning_rate=0.3, nthread=4, min_child_weight=3, n_estimators=50, subsample=0.7, seed=1337, objective=binary:logistic, max_depth=5 \n",
      "[CV] colsample_bytree=0.7, silent=1, learning_rate=0.3, nthread=4, min_child_weight=3, n_estimators=50, subsample=0.7, seed=1337, objective=binary:logistic, max_depth=5 \n"
     ]
    }
   ],
   "source": [
    "xgb_model = xgb.XGBClassifier()\n",
    "\n",
    "parameters = {'nthread':[4], #when use hyperthread, xgboost may become slower\n",
    "              'objective':['binary:logistic'],\n",
    "              'learning_rate': [0.3], #so called `eta` value\n",
    "              'max_depth': [5,6],\n",
    "              'min_child_weight': [3],\n",
    "              'silent': [1],\n",
    "              'subsample': [0.7],\n",
    "              'colsample_bytree': [0.7],\n",
    "              'n_estimators': [50,100], #number of trees\n",
    "              'seed': [1337]}\n",
    "\n",
    "clf = grid_search.GridSearchCV(xgb_model, parameters, n_jobs=4, \n",
    "                   cv=10 ,\n",
    "                   verbose=20, refit=True,scoring='roc_auc')\n",
    "\n",
    "clf.fit(train_X, train_y)\n",
    "\n",
    "y_test_predict = clf.predict(test_X)\n",
    "actuals = test_y\n",
    "score = metrics.accuracy_score(test_y, y_test_predict)\n",
    "print score"
   ]
  },
  {
   "cell_type": "code",
   "execution_count": null,
   "metadata": {
    "collapsed": true
   },
   "outputs": [],
   "source": []
  }
 ],
 "metadata": {
  "kernelspec": {
   "display_name": "Python 2",
   "language": "python",
   "name": "python2"
  },
  "language_info": {
   "codemirror_mode": {
    "name": "ipython",
    "version": 2
   },
   "file_extension": ".py",
   "mimetype": "text/x-python",
   "name": "python",
   "nbconvert_exporter": "python",
   "pygments_lexer": "ipython2",
   "version": "2.7.12"
  }
 },
 "nbformat": 4,
 "nbformat_minor": 1
}
