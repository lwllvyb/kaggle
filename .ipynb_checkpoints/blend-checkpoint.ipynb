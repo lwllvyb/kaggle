{
 "cells": [
  {
   "cell_type": "code",
   "execution_count": 1,
   "metadata": {
    "collapsed": false
   },
   "outputs": [
    {
     "name": "stderr",
     "output_type": "stream",
     "text": [
      "/usr/local/lib/python2.7/site-packages/sklearn/cross_validation.py:44: DeprecationWarning: This module was deprecated in version 0.18 in favor of the model_selection module into which all the refactored classes and functions are moved. Also note that the interface of the new CV iterators are different from that of this module. This module will be removed in 0.20.\n",
      "  \"This module will be removed in 0.20.\", DeprecationWarning)\n"
     ]
    }
   ],
   "source": [
    "import pandas\n",
    "import numpy as np\n",
    "from sklearn import cross_validation\n",
    "from sklearn import metrics\n",
    "from sklearn.linear_model import LogisticRegression\n",
    "from sklearn.ensemble import ExtraTreesClassifier, RandomForestClassifier, GradientBoostingClassifier\n",
    "from sklearn.tree import DecisionTreeClassifier\n",
    "from sklearn.cross_validation import StratifiedKFold, train_test_split, KFold\n",
    "url = \"https://archive.ics.uci.edu/ml/machine-learning-databases/pima-indians-diabetes/pima-indians-diabetes.data\"\n",
    "names = ['preg', 'plas', 'pres', 'skin', 'test', 'mass', 'pedi', 'age', 'class']\n",
    "dataframe = pandas.read_csv(url, names=names)\n",
    "array = dataframe.values\n"
   ]
  },
  {
   "cell_type": "code",
   "execution_count": 2,
   "metadata": {
    "collapsed": false
   },
   "outputs": [],
   "source": [
    "class Ensemble(object):\n",
    "    def __init__(self, n_folds, base_models, stacker):\n",
    "        self.n_folds = n_folds\n",
    "        self.base_models = base_models\n",
    "        self.stacker = stacker\n",
    "    def predict(self, X):\n",
    "        test = np.zeros((X.shape[0], len(self.base_models)))\n",
    "        \n",
    "        for i , clf in enumerate(self.base_models):\n",
    "            test[:, i] = clf.predict(X)\n",
    "            \n",
    "        return self.stacker.predict(test)\n",
    "    \n",
    "    def fit_predict(self, train_X, train_y, test_X):\n",
    "        train_X = np.array(train_X)\n",
    "        train_y = np.array(train_y)\n",
    "        test_X = np.array(test_X)\n",
    "        \n",
    "        folds = list(KFold(len(train_y), n_folds = self.n_folds, shuffle=True, random_state=2016))\n",
    "        \n",
    "        S_train = np.zeros((train_X.shape[0], len(self.base_models)))\n",
    "        S_test = np.zeros((test_X.shape[0], len(self.base_models)))\n",
    "        \n",
    "        for i, clf in enumerate(self.base_models):\n",
    "            S_test_i = np.zeros((test_X.shape[0], len(folds)))\n",
    "            \n",
    "            for j, (train_idx, cv_idx) in enumerate(folds):\n",
    "                X_train = train_X[train_idx]\n",
    "                y_train = train_y[train_idx]\n",
    "                X_cv = train_X[cv_idx]\n",
    "                \n",
    "                clf.fit(X_train, y_train)\n",
    "                \n",
    "                y_pred = clf.predict(X_cv)\n",
    "                S_train[cv_idx, i] = y_pred\n",
    "                \n",
    "                S_test_i[:, j] = clf.predict(test_X)\n",
    "            S_test[:, i] = S_test_i.mean(1)\n",
    "        \n",
    "        self.stacker.fit(S_train, train_y)\n",
    "        \n",
    "        y_pred = self.stacker.predict(S_test)\n",
    "        \n",
    "        return y_pred"
   ]
  },
  {
   "cell_type": "code",
   "execution_count": 3,
   "metadata": {
    "collapsed": false
   },
   "outputs": [
    {
     "name": "stdout",
     "output_type": "stream",
     "text": [
      "0.753246753247\n"
     ]
    }
   ],
   "source": [
    "clfs = [\n",
    "        RandomForestClassifier(n_estimators=300, n_jobs=-1, criterion='gini'),\n",
    "        ExtraTreesClassifier(n_estimators=300, n_jobs=-1, criterion='gini'),\n",
    "        ExtraTreesClassifier(n_estimators=300, n_jobs=-1, criterion='entropy'),\n",
    "        GradientBoostingClassifier(learning_rate=0.05, subsample=0.5, max_depth=6, n_estimators=50)\n",
    "       ]\n",
    "\n",
    "stacker = LogisticRegression()\n",
    "n_folds = 10\n",
    "\n",
    "X = array[:,0:8]\n",
    "y = array[:,8]\n",
    "\n",
    "train_X, test_X, train_y, test_y = train_test_split(X, y, test_size=.1) \n",
    "en = Ensemble(n_folds, clfs, stacker)\n",
    "\n",
    "y_test_predict = en.fit_predict(train_X, train_y, test_X)\n",
    "score = metrics.accuracy_score(test_y, y_test_predict)\n",
    "print score"
   ]
  },
  {
   "cell_type": "code",
   "execution_count": null,
   "metadata": {
    "collapsed": true
   },
   "outputs": [],
   "source": []
  },
  {
   "cell_type": "code",
   "execution_count": null,
   "metadata": {
    "collapsed": true
   },
   "outputs": [],
   "source": []
  }
 ],
 "metadata": {
  "kernelspec": {
   "display_name": "Python 2",
   "language": "python",
   "name": "python2"
  },
  "language_info": {
   "codemirror_mode": {
    "name": "ipython",
    "version": 2
   },
   "file_extension": ".py",
   "mimetype": "text/x-python",
   "name": "python",
   "nbconvert_exporter": "python",
   "pygments_lexer": "ipython2",
   "version": "2.7.12"
  }
 },
 "nbformat": 4,
 "nbformat_minor": 1
}
