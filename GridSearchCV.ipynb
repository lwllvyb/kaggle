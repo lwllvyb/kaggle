{
 "cells": [
  {
   "cell_type": "code",
   "execution_count": 1,
   "metadata": {
    "collapsed": false
   },
   "outputs": [
    {
     "name": "stderr",
     "output_type": "stream",
     "text": [
      "/usr/local/lib/python2.7/site-packages/sklearn/cross_validation.py:44: DeprecationWarning: This module was deprecated in version 0.18 in favor of the model_selection module into which all the refactored classes and functions are moved. Also note that the interface of the new CV iterators are different from that of this module. This module will be removed in 0.20.\n",
      "  \"This module will be removed in 0.20.\", DeprecationWarning)\n",
      "/usr/local/lib/python2.7/site-packages/sklearn/grid_search.py:43: DeprecationWarning: This module was deprecated in version 0.18 in favor of the model_selection module into which all the refactored classes and functions are moved. This module will be removed in 0.20.\n",
      "  DeprecationWarning)\n"
     ]
    }
   ],
   "source": [
    "import pandas\n",
    "import numpy as np\n",
    "import xgboost as xgb\n",
    "from sklearn import cross_validation\n",
    "from sklearn import metrics\n",
    "from sklearn import grid_search\n",
    "from sklearn.linear_model import LogisticRegression\n",
    "from sklearn.ensemble import ExtraTreesClassifier, RandomForestClassifier, GradientBoostingClassifier\n",
    "from sklearn.tree import DecisionTreeClassifier\n",
    "from sklearn.cross_validation import StratifiedKFold, train_test_split, KFold\n",
    "url = \"https://archive.ics.uci.edu/ml/machine-learning-databases/pima-indians-diabetes/pima-indians-diabetes.data\"\n",
    "names = ['preg', 'plas', 'pres', 'skin', 'test', 'mass', 'pedi', 'age', 'class']\n",
    "dataframe = pandas.read_csv(url, names=names)\n",
    "array = dataframe.values"
   ]
  },
  {
   "cell_type": "code",
   "execution_count": 2,
   "metadata": {
    "collapsed": true
   },
   "outputs": [],
   "source": [
    "X = array[:,:-1]\n",
    "y = array[:, -1]"
   ]
  },
  {
   "cell_type": "code",
   "execution_count": 3,
   "metadata": {
    "collapsed": false
   },
   "outputs": [],
   "source": [
    "train_X, test_X, train_y, test_y = train_test_split(X, y, test_size=.4, random_state=2016)"
   ]
  },
  {
   "cell_type": "code",
   "execution_count": 16,
   "metadata": {
    "collapsed": false
   },
   "outputs": [],
   "source": []
  },
  {
   "cell_type": "code",
   "execution_count": 7,
   "metadata": {
    "collapsed": false
   },
   "outputs": [
    {
     "name": "stdout",
     "output_type": "stream",
     "text": [
      "Fitting 10 folds for each of 4 candidates, totalling 40 fits\n",
      "[CV] max_features=8, n_estimators=300, criterion=gini ................\n",
      "[CV] max_features=8, n_estimators=300, criterion=gini ................\n",
      "[CV] max_features=8, n_estimators=300, criterion=gini ................\n",
      "[CV] max_features=8, n_estimators=300, criterion=gini ................\n",
      "[CV]  max_features=8, n_estimators=300, criterion=gini, score=0.896078 -   2.2s\n",
      "[CV]  max_features=8, n_estimators=300, criterion=gini, score=0.796078 -   2.2s\n",
      "[CV] max_features=8, n_estimators=300, criterion=gini ................\n",
      "[CV] max_features=8, n_estimators=300, criterion=gini ................\n",
      "[CV]  max_features=8, n_estimators=300, criterion=gini, score=0.851927 -   2.3s\n",
      "[CV] max_features=8, n_estimators=300, criterion=gini ................\n"
     ]
    },
    {
     "name": "stderr",
     "output_type": "stream",
     "text": [
      "[Parallel(n_jobs=4)]: Done   1 tasks      | elapsed:    2.2s\n",
      "[Parallel(n_jobs=4)]: Done   2 tasks      | elapsed:    2.3s\n",
      "[Parallel(n_jobs=4)]: Done   3 tasks      | elapsed:    2.4s\n"
     ]
    },
    {
     "name": "stdout",
     "output_type": "stream",
     "text": [
      "[CV]  max_features=8, n_estimators=300, criterion=gini, score=0.863083 -   2.4s\n",
      "[CV] max_features=8, n_estimators=300, criterion=gini ................\n"
     ]
    },
    {
     "name": "stderr",
     "output_type": "stream",
     "text": [
      "[Parallel(n_jobs=4)]: Done   4 tasks      | elapsed:    2.5s\n"
     ]
    },
    {
     "name": "stdout",
     "output_type": "stream",
     "text": [
      "[CV]  max_features=8, n_estimators=300, criterion=gini, score=0.906694 -   2.3s\n",
      "[CV] max_features=8, n_estimators=300, criterion=gini ................\n",
      "[CV]  max_features=8, n_estimators=300, criterion=gini, score=0.651116 -   2.2s\n",
      "[CV] max_features=8, n_estimators=300, criterion=gini ................\n",
      "[CV]  max_features=8, n_estimators=300, criterion=gini, score=0.840771 -   2.4s\n",
      "[CV]  max_features=8, n_estimators=300, criterion=gini, score=0.774848 -   2.1s\n",
      "[CV] max_features=8, n_estimators=500, criterion=gini ................\n",
      "[CV] max_features=8, n_estimators=500, criterion=gini ................\n"
     ]
    },
    {
     "name": "stderr",
     "output_type": "stream",
     "text": [
      "[Parallel(n_jobs=4)]: Done   5 tasks      | elapsed:    4.5s\n",
      "[Parallel(n_jobs=4)]: Done   6 tasks      | elapsed:    4.6s\n",
      "[Parallel(n_jobs=4)]: Done   7 tasks      | elapsed:    4.7s\n",
      "[Parallel(n_jobs=4)]: Done   8 tasks      | elapsed:    4.7s\n"
     ]
    },
    {
     "name": "stdout",
     "output_type": "stream",
     "text": [
      "[CV]  max_features=8, n_estimators=300, criterion=gini, score=0.767241 -   3.3s\n",
      "[CV] max_features=8, n_estimators=500, criterion=gini ................\n",
      "[CV]  max_features=8, n_estimators=300, criterion=gini, score=0.937500 -   3.4s\n",
      "[CV] max_features=8, n_estimators=500, criterion=gini ................\n"
     ]
    },
    {
     "name": "stderr",
     "output_type": "stream",
     "text": [
      "[Parallel(n_jobs=4)]: Done   9 tasks      | elapsed:    7.9s\n",
      "[Parallel(n_jobs=4)]: Done  10 tasks      | elapsed:    8.0s\n"
     ]
    },
    {
     "name": "stdout",
     "output_type": "stream",
     "text": [
      "[CV]  max_features=8, n_estimators=500, criterion=gini, score=0.784314 -   5.5s\n",
      "[CV] max_features=8, n_estimators=500, criterion=gini ................\n",
      "[CV]  max_features=8, n_estimators=500, criterion=gini, score=0.901961 -   5.6s\n",
      "[CV] max_features=8, n_estimators=500, criterion=gini ................\n"
     ]
    },
    {
     "name": "stderr",
     "output_type": "stream",
     "text": [
      "[Parallel(n_jobs=4)]: Done  11 tasks      | elapsed:   10.2s\n",
      "[Parallel(n_jobs=4)]: Done  12 tasks      | elapsed:   10.3s\n"
     ]
    },
    {
     "name": "stdout",
     "output_type": "stream",
     "text": [
      "[CV]  max_features=8, n_estimators=500, criterion=gini, score=0.866126 -   4.5s\n",
      "[CV] max_features=8, n_estimators=500, criterion=gini ................\n",
      "[CV]  max_features=8, n_estimators=500, criterion=gini, score=0.870183 -   4.5s\n",
      "[CV] max_features=8, n_estimators=500, criterion=gini ................\n"
     ]
    },
    {
     "name": "stderr",
     "output_type": "stream",
     "text": [
      "[Parallel(n_jobs=4)]: Done  13 tasks      | elapsed:   12.4s\n",
      "[Parallel(n_jobs=4)]: Done  14 tasks      | elapsed:   12.5s\n"
     ]
    },
    {
     "name": "stdout",
     "output_type": "stream",
     "text": [
      "[CV]  max_features=8, n_estimators=500, criterion=gini, score=0.821501 -   3.7s\n",
      "[CV] max_features=8, n_estimators=500, criterion=gini ................\n",
      "[CV]  max_features=8, n_estimators=500, criterion=gini, score=0.904665 -   3.7s\n",
      "[CV] max_features=8, n_estimators=500, criterion=gini ................\n"
     ]
    },
    {
     "name": "stderr",
     "output_type": "stream",
     "text": [
      "[Parallel(n_jobs=4)]: Done  15 tasks      | elapsed:   13.9s\n",
      "[Parallel(n_jobs=4)]: Done  16 tasks      | elapsed:   14.0s\n"
     ]
    },
    {
     "name": "stdout",
     "output_type": "stream",
     "text": [
      "[CV]  max_features=8, n_estimators=500, criterion=gini, score=0.639959 -   3.7s\n",
      "[CV] max_features=8, n_estimators=300, criterion=entropy .............\n",
      "[CV]  max_features=8, n_estimators=500, criterion=gini, score=0.758621 -   3.7s\n",
      "[CV] max_features=8, n_estimators=300, criterion=entropy .............\n"
     ]
    },
    {
     "name": "stderr",
     "output_type": "stream",
     "text": [
      "[Parallel(n_jobs=4)]: Done  17 tasks      | elapsed:   16.1s\n",
      "[Parallel(n_jobs=4)]: Done  18 tasks      | elapsed:   16.2s\n"
     ]
    },
    {
     "name": "stdout",
     "output_type": "stream",
     "text": [
      "[CV]  max_features=8, n_estimators=500, criterion=gini, score=0.739224 -   4.7s\n",
      "[CV] max_features=8, n_estimators=300, criterion=entropy .............\n",
      "[CV]  max_features=8, n_estimators=500, criterion=gini, score=0.941810 -   4.7s\n",
      "[CV] max_features=8, n_estimators=300, criterion=entropy .............\n"
     ]
    },
    {
     "name": "stderr",
     "output_type": "stream",
     "text": [
      "[Parallel(n_jobs=4)]: Done  19 tasks      | elapsed:   18.6s\n",
      "[Parallel(n_jobs=4)]: Done  20 tasks      | elapsed:   18.8s\n"
     ]
    },
    {
     "name": "stdout",
     "output_type": "stream",
     "text": [
      "[CV]  max_features=8, n_estimators=300, criterion=entropy, score=0.801961 -   3.4s\n",
      "[CV] max_features=8, n_estimators=300, criterion=entropy .............\n",
      "[CV]  max_features=8, n_estimators=300, criterion=entropy, score=0.894118 -   3.4s\n",
      "[CV] max_features=8, n_estimators=300, criterion=entropy .............\n"
     ]
    },
    {
     "name": "stderr",
     "output_type": "stream",
     "text": [
      "[Parallel(n_jobs=4)]: Done  21 tasks      | elapsed:   19.5s\n",
      "[Parallel(n_jobs=4)]: Done  22 tasks      | elapsed:   19.7s\n"
     ]
    },
    {
     "name": "stdout",
     "output_type": "stream",
     "text": [
      "[CV]  max_features=8, n_estimators=300, criterion=entropy, score=0.867140 -   4.0s\n",
      "[CV] max_features=8, n_estimators=300, criterion=entropy .............\n",
      "[CV]  max_features=8, n_estimators=300, criterion=entropy, score=0.884381 -   3.8s\n",
      "[CV] max_features=8, n_estimators=300, criterion=entropy .............\n"
     ]
    },
    {
     "name": "stderr",
     "output_type": "stream",
     "text": [
      "[Parallel(n_jobs=4)]: Done  23 tasks      | elapsed:   22.6s\n",
      "[Parallel(n_jobs=4)]: Done  24 tasks      | elapsed:   22.6s\n"
     ]
    },
    {
     "name": "stdout",
     "output_type": "stream",
     "text": [
      "[CV]  max_features=8, n_estimators=300, criterion=entropy, score=0.825558 -   3.8s\n",
      "[CV] max_features=8, n_estimators=300, criterion=entropy .............\n"
     ]
    },
    {
     "name": "stderr",
     "output_type": "stream",
     "text": [
      "[Parallel(n_jobs=4)]: Done  25 tasks      | elapsed:   23.4s\n"
     ]
    },
    {
     "name": "stdout",
     "output_type": "stream",
     "text": [
      "[CV]  max_features=8, n_estimators=300, criterion=entropy, score=0.906694 -   4.0s\n",
      "[CV] max_features=8, n_estimators=300, criterion=entropy .............\n"
     ]
    },
    {
     "name": "stderr",
     "output_type": "stream",
     "text": [
      "[Parallel(n_jobs=4)]: Done  26 tasks      | elapsed:   23.6s\n"
     ]
    },
    {
     "name": "stdout",
     "output_type": "stream",
     "text": [
      "[CV]  max_features=8, n_estimators=300, criterion=entropy, score=0.645030 -   2.6s\n",
      "[CV] max_features=8, n_estimators=500, criterion=entropy .............\n",
      "[CV]  max_features=8, n_estimators=300, criterion=entropy, score=0.764706 -   2.6s\n",
      "[CV] max_features=8, n_estimators=500, criterion=entropy .............\n"
     ]
    },
    {
     "name": "stderr",
     "output_type": "stream",
     "text": [
      "[Parallel(n_jobs=4)]: Done  27 tasks      | elapsed:   25.2s\n",
      "[Parallel(n_jobs=4)]: Done  28 tasks      | elapsed:   25.3s\n"
     ]
    },
    {
     "name": "stdout",
     "output_type": "stream",
     "text": [
      "[CV]  max_features=8, n_estimators=300, criterion=entropy, score=0.742457 -   2.5s\n",
      "[CV] max_features=8, n_estimators=500, criterion=entropy .............\n"
     ]
    },
    {
     "name": "stderr",
     "output_type": "stream",
     "text": [
      "[Parallel(n_jobs=4)]: Done  29 tasks      | elapsed:   25.9s\n"
     ]
    },
    {
     "name": "stdout",
     "output_type": "stream",
     "text": [
      "[CV]  max_features=8, n_estimators=300, criterion=entropy, score=0.936422 -   2.8s\n",
      "[CV] max_features=8, n_estimators=500, criterion=entropy .............\n"
     ]
    },
    {
     "name": "stderr",
     "output_type": "stream",
     "text": [
      "[Parallel(n_jobs=4)]: Done  30 tasks      | elapsed:   26.4s\n"
     ]
    },
    {
     "name": "stdout",
     "output_type": "stream",
     "text": [
      "[CV]  max_features=8, n_estimators=500, criterion=entropy, score=0.776471 -   4.6s\n",
      "[CV] max_features=8, n_estimators=500, criterion=entropy .............\n",
      "[CV]  max_features=8, n_estimators=500, criterion=entropy, score=0.900000 -   4.6s\n",
      "[CV] max_features=8, n_estimators=500, criterion=entropy .............\n"
     ]
    },
    {
     "name": "stderr",
     "output_type": "stream",
     "text": [
      "[Parallel(n_jobs=4)]: Done  31 tasks      | elapsed:   29.8s\n",
      "[Parallel(n_jobs=4)]: Done  32 tasks      | elapsed:   29.9s\n"
     ]
    },
    {
     "name": "stdout",
     "output_type": "stream",
     "text": [
      "[CV]  max_features=8, n_estimators=500, criterion=entropy, score=0.856998 -   4.6s\n",
      "[CV] max_features=8, n_estimators=500, criterion=entropy .............\n"
     ]
    },
    {
     "name": "stderr",
     "output_type": "stream",
     "text": [
      "[Parallel(n_jobs=4)]: Done  33 tasks      | elapsed:   30.5s\n"
     ]
    },
    {
     "name": "stdout",
     "output_type": "stream",
     "text": [
      "[CV]  max_features=8, n_estimators=500, criterion=entropy, score=0.872211 -   4.6s\n",
      "[CV] max_features=8, n_estimators=500, criterion=entropy .............\n",
      "[CV]  max_features=8, n_estimators=500, criterion=entropy, score=0.825558 -   5.8s\n",
      "[CV] max_features=8, n_estimators=500, criterion=entropy .............\n",
      "[CV]  max_features=8, n_estimators=500, criterion=entropy, score=0.910751 -   5.7s\n",
      "[CV] max_features=8, n_estimators=500, criterion=entropy .............\n"
     ]
    },
    {
     "name": "stderr",
     "output_type": "stream",
     "text": [
      "[Parallel(n_jobs=4)]: Done  36 out of  40 | elapsed:   35.6s remaining:    4.0s\n"
     ]
    },
    {
     "name": "stdout",
     "output_type": "stream",
     "text": [
      "[CV]  max_features=8, n_estimators=500, criterion=entropy, score=0.632860 -   6.1s\n",
      "[CV]  max_features=8, n_estimators=500, criterion=entropy, score=0.748479 -   6.2s\n",
      "[CV]  max_features=8, n_estimators=500, criterion=entropy, score=0.759698 -   3.6s\n",
      "[CV]  max_features=8, n_estimators=500, criterion=entropy, score=0.941810 -   3.6s\n"
     ]
    },
    {
     "name": "stderr",
     "output_type": "stream",
     "text": [
      "[Parallel(n_jobs=4)]: Done  40 out of  40 | elapsed:   39.2s finished\n"
     ]
    },
    {
     "data": {
      "text/plain": [
       "GridSearchCV(cv=10, error_score='raise',\n",
       "       estimator=ExtraTreesClassifier(bootstrap=False, class_weight=None, criterion='gini',\n",
       "           max_depth=None, max_features='auto', max_leaf_nodes=None,\n",
       "           min_impurity_split=1e-07, min_samples_leaf=1,\n",
       "           min_samples_split=2, min_weight_fraction_leaf=0.0,\n",
       "           n_estimators=10, n_jobs=1, oob_score=False, random_state=None,\n",
       "           verbose=0, warm_start=False),\n",
       "       fit_params={}, iid=True, n_jobs=4,\n",
       "       param_grid={'n_estimators': [300, 500], 'max_features': [8], 'criterion': ['gini', 'entropy']},\n",
       "       pre_dispatch='2*n_jobs', refit=True, scoring='roc_auc', verbose=20)"
      ]
     },
     "execution_count": 7,
     "metadata": {},
     "output_type": "execute_result"
    }
   ],
   "source": [
    "rfc = RandomForestClassifier()\n",
    "etc = ExtraTreesClassifier()\n",
    "param_grid = {'n_estimators': [300, 500], \n",
    "              'max_features': [8],\n",
    "              'criterion'   : [\"gini\", \"entropy\"]\n",
    "             }\n",
    "model = grid_search.GridSearchCV(estimator=etc, param_grid=param_grid, n_jobs=4, cv=10, verbose=20, scoring=\"roc_auc\")\n",
    "model.fit(train_X, train_y)"
   ]
  },
  {
   "cell_type": "code",
   "execution_count": 8,
   "metadata": {
    "collapsed": false
   },
   "outputs": [
    {
     "name": "stdout",
     "output_type": "stream",
     "text": [
      "{'max_features': 8, 'n_estimators': 300, 'criterion': 'gini'}\n",
      "0.828506279948\n"
     ]
    }
   ],
   "source": [
    "print model.best_params_\n",
    "print model.best_score_"
   ]
  },
  {
   "cell_type": "code",
   "execution_count": 4,
   "metadata": {
    "collapsed": false,
    "scrolled": true
   },
   "outputs": [
    {
     "name": "stdout",
     "output_type": "stream",
     "text": [
      "Fitting 10 folds for each of 4 candidates, totalling 40 fits\n",
      "[CV] colsample_bytree=0.7, silent=1, learning_rate=0.3, nthread=4, min_child_weight=3, n_estimators=50, subsample=0.7, seed=1337, objective=binary:logistic, max_depth=5 \n",
      "[CV] colsample_bytree=0.7, silent=1, learning_rate=0.3, nthread=4, min_child_weight=3, n_estimators=50, subsample=0.7, seed=1337, objective=binary:logistic, max_depth=5 \n",
      "[CV] colsample_bytree=0.7, silent=1, learning_rate=0.3, nthread=4, min_child_weight=3, n_estimators=50, subsample=0.7, seed=1337, objective=binary:logistic, max_depth=5 \n",
      "[CV] colsample_bytree=0.7, silent=1, learning_rate=0.3, nthread=4, min_child_weight=3, n_estimators=50, subsample=0.7, seed=1337, objective=binary:logistic, max_depth=5 \n",
      "[CV]  colsample_bytree=0.7, silent=1, learning_rate=0.3, nthread=4, min_child_weight=3, n_estimators=50, subsample=0.7, seed=1337, objective=binary:logistic, max_depth=5, score=0.858824 -   0.1s\n",
      "[CV] colsample_bytree=0.7, silent=1, learning_rate=0.3, nthread=4, min_child_weight=3, n_estimators=50, subsample=0.7, seed=1337, objective=binary:logistic, max_depth=5 \n",
      "[CV]  colsample_bytree=0.7, silent=1, learning_rate=0.3, nthread=4, min_child_weight=3, n_estimators=50, subsample=0.7, seed=1337, objective=binary:logistic, max_depth=5, score=0.739216 -   0.1s\n",
      "[CV] colsample_bytree=0.7, silent=1, learning_rate=0.3, nthread=4, min_child_weight=3, n_estimators=50, subsample=0.7, seed=1337, objective=binary:logistic, max_depth=5 \n",
      "[CV]  colsample_bytree=0.7, silent=1, learning_rate=0.3, nthread=4, min_child_weight=3, n_estimators=50, subsample=0.7, seed=1337, objective=binary:logistic, max_depth=5, score=0.882353 -   0.2s\n",
      "[CV] colsample_bytree=0.7, silent=1, learning_rate=0.3, nthread=4, min_child_weight=3, n_estimators=50, subsample=0.7, seed=1337, objective=binary:logistic, max_depth=5 \n",
      "[CV]  colsample_bytree=0.7, silent=1, learning_rate=0.3, nthread=4, min_child_weight=3, n_estimators=50, subsample=0.7, seed=1337, objective=binary:logistic, max_depth=5, score=0.926978 -   0.3s\n",
      "[CV] colsample_bytree=0.7, silent=1, learning_rate=0.3, nthread=4, min_child_weight=3, n_estimators=50, subsample=0.7, seed=1337, objective=binary:logistic, max_depth=5 \n"
     ]
    },
    {
     "name": "stderr",
     "output_type": "stream",
     "text": [
      "[Parallel(n_jobs=4)]: Done   1 tasks      | elapsed:    0.2s\n",
      "[Parallel(n_jobs=4)]: Batch computation too fast (0.1497s.) Setting batch_size=2.\n",
      "[Parallel(n_jobs=4)]: Done   2 tasks      | elapsed:    0.2s\n",
      "[Parallel(n_jobs=4)]: Done   3 tasks      | elapsed:    0.3s\n",
      "[Parallel(n_jobs=4)]: Done   4 tasks      | elapsed:    0.3s\n"
     ]
    },
    {
     "name": "stdout",
     "output_type": "stream",
     "text": [
      "[CV]  colsample_bytree=0.7, silent=1, learning_rate=0.3, nthread=4, min_child_weight=3, n_estimators=50, subsample=0.7, seed=1337, objective=binary:logistic, max_depth=5, score=0.801217 -   0.2s\n",
      "[CV]  colsample_bytree=0.7, silent=1, learning_rate=0.3, nthread=4, min_child_weight=3, n_estimators=50, subsample=0.7, seed=1337, objective=binary:logistic, max_depth=5, score=0.728195 -   0.1s\n",
      "[CV] colsample_bytree=0.7, silent=1, learning_rate=0.3, nthread=4, min_child_weight=3, n_estimators=100, subsample=0.7, seed=1337, objective=binary:logistic, max_depth=5 \n",
      "[CV]  colsample_bytree=0.7, silent=1, learning_rate=0.3, nthread=4, min_child_weight=3, n_estimators=50, subsample=0.7, seed=1337, objective=binary:logistic, max_depth=5, score=0.868154 -   0.1s\n",
      "[CV] colsample_bytree=0.7, silent=1, learning_rate=0.3, nthread=4, min_child_weight=3, n_estimators=50, subsample=0.7, seed=1337, objective=binary:logistic, max_depth=5 \n",
      "[CV] colsample_bytree=0.7, silent=1, learning_rate=0.3, nthread=4, min_child_weight=3, n_estimators=100, subsample=0.7, seed=1337, objective=binary:logistic, max_depth=5 \n",
      "[CV]  colsample_bytree=0.7, silent=1, learning_rate=0.3, nthread=4, min_child_weight=3, n_estimators=50, subsample=0.7, seed=1337, objective=binary:logistic, max_depth=5, score=0.693712 -   0.1s\n",
      "[CV] colsample_bytree=0.7, silent=1, learning_rate=0.3, nthread=4, min_child_weight=3, n_estimators=100, subsample=0.7, seed=1337, objective=binary:logistic, max_depth=5 \n",
      "[CV]  colsample_bytree=0.7, silent=1, learning_rate=0.3, nthread=4, min_child_weight=3, n_estimators=50, subsample=0.7, seed=1337, objective=binary:logistic, max_depth=5, score=0.773707 -   0.1s\n",
      "[CV] colsample_bytree=0.7, silent=1, learning_rate=0.3, nthread=4, min_child_weight=3, n_estimators=50, subsample=0.7, seed=1337, objective=binary:logistic, max_depth=5 \n",
      "[CV]  colsample_bytree=0.7, silent=1, learning_rate=0.3, nthread=4, min_child_weight=3, n_estimators=100, subsample=0.7, seed=1337, objective=binary:logistic, max_depth=5, score=0.841785 -   0.2s\n",
      "[CV]  colsample_bytree=0.7, silent=1, learning_rate=0.3, nthread=4, min_child_weight=3, n_estimators=50, subsample=0.7, seed=1337, objective=binary:logistic, max_depth=5, score=0.885776 -   0.1s\n"
     ]
    },
    {
     "name": "stderr",
     "output_type": "stream",
     "text": [
      "[Parallel(n_jobs=4)]: Done   5 tasks      | elapsed:    0.4s\n",
      "[Parallel(n_jobs=4)]: Done   6 tasks      | elapsed:    0.4s\n",
      "[Parallel(n_jobs=4)]: Done   7 tasks      | elapsed:    0.4s\n",
      "[Parallel(n_jobs=4)]: Done   8 tasks      | elapsed:    0.5s\n",
      "[Parallel(n_jobs=4)]: Done  10 tasks      | elapsed:    0.6s\n"
     ]
    },
    {
     "name": "stdout",
     "output_type": "stream",
     "text": [
      "[CV] colsample_bytree=0.7, silent=1, learning_rate=0.3, nthread=4, min_child_weight=3, n_estimators=100, subsample=0.7, seed=1337, objective=binary:logistic, max_depth=5 \n",
      "[CV] colsample_bytree=0.7, silent=1, learning_rate=0.3, nthread=4, min_child_weight=3, n_estimators=100, subsample=0.7, seed=1337, objective=binary:logistic, max_depth=5 \n",
      "[CV]  colsample_bytree=0.7, silent=1, learning_rate=0.3, nthread=4, min_child_weight=3, n_estimators=100, subsample=0.7, seed=1337, objective=binary:logistic, max_depth=5, score=0.725490 -   0.2s\n",
      "[CV]  colsample_bytree=0.7, silent=1, learning_rate=0.3, nthread=4, min_child_weight=3, n_estimators=100, subsample=0.7, seed=1337, objective=binary:logistic, max_depth=5, score=0.799189 -   0.2s\n",
      "[CV] colsample_bytree=0.7, silent=1, learning_rate=0.3, nthread=4, min_child_weight=3, n_estimators=100, subsample=0.7, seed=1337, objective=binary:logistic, max_depth=5 \n",
      "[CV] colsample_bytree=0.7, silent=1, learning_rate=0.3, nthread=4, min_child_weight=3, n_estimators=100, subsample=0.7, seed=1337, objective=binary:logistic, max_depth=5 \n",
      "[CV]  colsample_bytree=0.7, silent=1, learning_rate=0.3, nthread=4, min_child_weight=3, n_estimators=100, subsample=0.7, seed=1337, objective=binary:logistic, max_depth=5, score=0.922921 -   0.2s\n",
      "[CV] colsample_bytree=0.7, silent=1, learning_rate=0.3, nthread=4, min_child_weight=3, n_estimators=100, subsample=0.7, seed=1337, objective=binary:logistic, max_depth=5 \n",
      "[CV]  colsample_bytree=0.7, silent=1, learning_rate=0.3, nthread=4, min_child_weight=3, n_estimators=100, subsample=0.7, seed=1337, objective=binary:logistic, max_depth=5, score=0.718053 -   0.1s\n",
      "[CV]  colsample_bytree=0.7, silent=1, learning_rate=0.3, nthread=4, min_child_weight=3, n_estimators=100, subsample=0.7, seed=1337, objective=binary:logistic, max_depth=5, score=0.837255 -   0.1s\n",
      "[CV] colsample_bytree=0.7, silent=1, learning_rate=0.3, nthread=4, min_child_weight=3, n_estimators=50, subsample=0.7, seed=1337, objective=binary:logistic, max_depth=6 \n",
      "[CV] colsample_bytree=0.7, silent=1, learning_rate=0.3, nthread=4, min_child_weight=3, n_estimators=100, subsample=0.7, seed=1337, objective=binary:logistic, max_depth=5 \n",
      "[CV]  colsample_bytree=0.7, silent=1, learning_rate=0.3, nthread=4, min_child_weight=3, n_estimators=100, subsample=0.7, seed=1337, objective=binary:logistic, max_depth=5, score=0.868154 -   0.2s\n",
      "[CV] colsample_bytree=0.7, silent=1, learning_rate=0.3, nthread=4, min_child_weight=3, n_estimators=50, subsample=0.7, seed=1337, objective=binary:logistic, max_depth=6 \n"
     ]
    },
    {
     "name": "stderr",
     "output_type": "stream",
     "text": [
      "[Parallel(n_jobs=4)]: Done  12 tasks      | elapsed:    0.8s\n",
      "[Parallel(n_jobs=4)]: Done  14 tasks      | elapsed:    0.8s\n",
      "[Parallel(n_jobs=4)]: Done  16 tasks      | elapsed:    0.8s\n"
     ]
    },
    {
     "name": "stdout",
     "output_type": "stream",
     "text": [
      "[CV]  colsample_bytree=0.7, silent=1, learning_rate=0.3, nthread=4, min_child_weight=3, n_estimators=50, subsample=0.7, seed=1337, objective=binary:logistic, max_depth=6, score=0.745098 -   0.2s\n",
      "[CV] colsample_bytree=0.7, silent=1, learning_rate=0.3, nthread=4, min_child_weight=3, n_estimators=50, subsample=0.7, seed=1337, objective=binary:logistic, max_depth=6 \n",
      "[CV]  colsample_bytree=0.7, silent=1, learning_rate=0.3, nthread=4, min_child_weight=3, n_estimators=50, subsample=0.7, seed=1337, objective=binary:logistic, max_depth=6, score=0.851927 -   0.3s\n",
      "[CV] colsample_bytree=0.7, silent=1, learning_rate=0.3, nthread=4, min_child_weight=3, n_estimators=50, subsample=0.7, seed=1337, objective=binary:logistic, max_depth=6 \n",
      "[CV]  colsample_bytree=0.7, silent=1, learning_rate=0.3, nthread=4, min_child_weight=3, n_estimators=100, subsample=0.7, seed=1337, objective=binary:logistic, max_depth=5, score=0.762931 -   0.4s\n",
      "[CV] colsample_bytree=0.7, silent=1, learning_rate=0.3, nthread=4, min_child_weight=3, n_estimators=100, subsample=0.7, seed=1337, objective=binary:logistic, max_depth=5 \n",
      "[CV]  colsample_bytree=0.7, silent=1, learning_rate=0.3, nthread=4, min_child_weight=3, n_estimators=100, subsample=0.7, seed=1337, objective=binary:logistic, max_depth=5, score=0.677485 -   0.4s\n",
      "[CV] colsample_bytree=0.7, silent=1, learning_rate=0.3, nthread=4, min_child_weight=3, n_estimators=50, subsample=0.7, seed=1337, objective=binary:logistic, max_depth=6 \n",
      "[CV]  colsample_bytree=0.7, silent=1, learning_rate=0.3, nthread=4, min_child_weight=3, n_estimators=50, subsample=0.7, seed=1337, objective=binary:logistic, max_depth=6, score=0.835294 -   0.1s\n",
      "[CV] colsample_bytree=0.7, silent=1, learning_rate=0.3, nthread=4, min_child_weight=3, n_estimators=50, subsample=0.7, seed=1337, objective=binary:logistic, max_depth=6 \n",
      "[CV]  colsample_bytree=0.7, silent=1, learning_rate=0.3, nthread=4, min_child_weight=3, n_estimators=50, subsample=0.7, seed=1337, objective=binary:logistic, max_depth=6, score=0.922921 -   0.1s\n",
      "[CV] colsample_bytree=0.7, silent=1, learning_rate=0.3, nthread=4, min_child_weight=3, n_estimators=50, subsample=0.7, seed=1337, objective=binary:logistic, max_depth=6 \n",
      "[CV]  colsample_bytree=0.7, silent=1, learning_rate=0.3, nthread=4, min_child_weight=3, n_estimators=50, subsample=0.7, seed=1337, objective=binary:logistic, max_depth=6, score=0.797160 -   0.1s\n",
      "[CV] colsample_bytree=0.7, silent=1, learning_rate=0.3, nthread=4, min_child_weight=3, n_estimators=50, subsample=0.7, seed=1337, objective=binary:logistic, max_depth=6 \n"
     ]
    },
    {
     "name": "stderr",
     "output_type": "stream",
     "text": [
      "[Parallel(n_jobs=4)]: Done  18 tasks      | elapsed:    1.2s\n",
      "[Parallel(n_jobs=4)]: Done  20 tasks      | elapsed:    1.3s\n",
      "[Parallel(n_jobs=4)]: Done  22 tasks      | elapsed:    1.3s\n"
     ]
    },
    {
     "name": "stdout",
     "output_type": "stream",
     "text": [
      "[CV]  colsample_bytree=0.7, silent=1, learning_rate=0.3, nthread=4, min_child_weight=3, n_estimators=50, subsample=0.7, seed=1337, objective=binary:logistic, max_depth=6, score=0.771552 -   0.2s\n",
      "[CV] colsample_bytree=0.7, silent=1, learning_rate=0.3, nthread=4, min_child_weight=3, n_estimators=50, subsample=0.7, seed=1337, objective=binary:logistic, max_depth=6 \n",
      "[CV]  colsample_bytree=0.7, silent=1, learning_rate=0.3, nthread=4, min_child_weight=3, n_estimators=50, subsample=0.7, seed=1337, objective=binary:logistic, max_depth=6, score=0.874239 -   0.1s\n",
      "[CV] colsample_bytree=0.7, silent=1, learning_rate=0.3, nthread=4, min_child_weight=3, n_estimators=100, subsample=0.7, seed=1337, objective=binary:logistic, max_depth=6 \n",
      "[CV]  colsample_bytree=0.7, silent=1, learning_rate=0.3, nthread=4, min_child_weight=3, n_estimators=50, subsample=0.7, seed=1337, objective=binary:logistic, max_depth=6, score=0.709939 -   0.3s\n",
      "[CV] colsample_bytree=0.7, silent=1, learning_rate=0.3, nthread=4, min_child_weight=3, n_estimators=50, subsample=0.7, seed=1337, objective=binary:logistic, max_depth=6 \n",
      "[CV]  colsample_bytree=0.7, silent=1, learning_rate=0.3, nthread=4, min_child_weight=3, n_estimators=100, subsample=0.7, seed=1337, objective=binary:logistic, max_depth=5, score=0.885776 -   0.4s\n",
      "[CV] colsample_bytree=0.7, silent=1, learning_rate=0.3, nthread=4, min_child_weight=3, n_estimators=100, subsample=0.7, seed=1337, objective=binary:logistic, max_depth=6 \n"
     ]
    },
    {
     "name": "stderr",
     "output_type": "stream",
     "text": [
      "[Parallel(n_jobs=4)]: Done  24 tasks      | elapsed:    1.5s\n",
      "[Parallel(n_jobs=4)]: Done  26 tasks      | elapsed:    1.7s\n"
     ]
    },
    {
     "name": "stdout",
     "output_type": "stream",
     "text": [
      "[CV]  colsample_bytree=0.7, silent=1, learning_rate=0.3, nthread=4, min_child_weight=3, n_estimators=50, subsample=0.7, seed=1337, objective=binary:logistic, max_depth=6, score=0.890086 -   0.2s\n",
      "[CV] colsample_bytree=0.7, silent=1, learning_rate=0.3, nthread=4, min_child_weight=3, n_estimators=100, subsample=0.7, seed=1337, objective=binary:logistic, max_depth=6 \n",
      "[CV]  colsample_bytree=0.7, silent=1, learning_rate=0.3, nthread=4, min_child_weight=3, n_estimators=50, subsample=0.7, seed=1337, objective=binary:logistic, max_depth=6, score=0.669371 -   0.1s\n",
      "[CV] colsample_bytree=0.7, silent=1, learning_rate=0.3, nthread=4, min_child_weight=3, n_estimators=100, subsample=0.7, seed=1337, objective=binary:logistic, max_depth=6 \n",
      "[CV]  colsample_bytree=0.7, silent=1, learning_rate=0.3, nthread=4, min_child_weight=3, n_estimators=100, subsample=0.7, seed=1337, objective=binary:logistic, max_depth=6, score=0.709804 -   0.4s\n"
     ]
    },
    {
     "name": "stderr",
     "output_type": "stream",
     "text": [
      "[Parallel(n_jobs=4)]: Done  30 out of  40 | elapsed:    1.8s remaining:    0.6s\n"
     ]
    },
    {
     "name": "stdout",
     "output_type": "stream",
     "text": [
      "[CV] colsample_bytree=0.7, silent=1, learning_rate=0.3, nthread=4, min_child_weight=3, n_estimators=100, subsample=0.7, seed=1337, objective=binary:logistic, max_depth=6 \n",
      "[CV]  colsample_bytree=0.7, silent=1, learning_rate=0.3, nthread=4, min_child_weight=3, n_estimators=100, subsample=0.7, seed=1337, objective=binary:logistic, max_depth=6, score=0.860041 -   0.3s\n",
      "[CV] colsample_bytree=0.7, silent=1, learning_rate=0.3, nthread=4, min_child_weight=3, n_estimators=100, subsample=0.7, seed=1337, objective=binary:logistic, max_depth=6 \n",
      "[CV]  colsample_bytree=0.7, silent=1, learning_rate=0.3, nthread=4, min_child_weight=3, n_estimators=100, subsample=0.7, seed=1337, objective=binary:logistic, max_depth=6, score=0.789047 -   0.4s\n",
      "[CV] colsample_bytree=0.7, silent=1, learning_rate=0.3, nthread=4, min_child_weight=3, n_estimators=100, subsample=0.7, seed=1337, objective=binary:logistic, max_depth=6 \n",
      "[CV]  colsample_bytree=0.7, silent=1, learning_rate=0.3, nthread=4, min_child_weight=3, n_estimators=100, subsample=0.7, seed=1337, objective=binary:logistic, max_depth=6, score=0.720081 -   0.3s\n",
      "[CV] colsample_bytree=0.7, silent=1, learning_rate=0.3, nthread=4, min_child_weight=3, n_estimators=100, subsample=0.7, seed=1337, objective=binary:logistic, max_depth=6 \n",
      "[CV]  colsample_bytree=0.7, silent=1, learning_rate=0.3, nthread=4, min_child_weight=3, n_estimators=100, subsample=0.7, seed=1337, objective=binary:logistic, max_depth=6, score=0.931034 -   0.3s\n",
      "[CV]  colsample_bytree=0.7, silent=1, learning_rate=0.3, nthread=4, min_child_weight=3, n_estimators=100, subsample=0.7, seed=1337, objective=binary:logistic, max_depth=6, score=0.831373 -   0.3s\n",
      "[CV] colsample_bytree=0.7, silent=1, learning_rate=0.3, nthread=4, min_child_weight=3, n_estimators=100, subsample=0.7, seed=1337, objective=binary:logistic, max_depth=6 \n",
      "[CV]  colsample_bytree=0.7, silent=1, learning_rate=0.3, nthread=4, min_child_weight=3, n_estimators=100, subsample=0.7, seed=1337, objective=binary:logistic, max_depth=6, score=0.677485 -   0.2s\n",
      "[CV]  colsample_bytree=0.7, silent=1, learning_rate=0.3, nthread=4, min_child_weight=3, n_estimators=100, subsample=0.7, seed=1337, objective=binary:logistic, max_depth=6, score=0.843813 -   0.2s\n",
      "[CV]  colsample_bytree=0.7, silent=1, learning_rate=0.3, nthread=4, min_child_weight=3, n_estimators=100, subsample=0.7, seed=1337, objective=binary:logistic, max_depth=6, score=0.767241 -   0.1s\n",
      "[CV] colsample_bytree=0.7, silent=1, learning_rate=0.3, nthread=4, min_child_weight=3, n_estimators=100, subsample=0.7, seed=1337, objective=binary:logistic, max_depth=6 \n"
     ]
    },
    {
     "name": "stderr",
     "output_type": "stream",
     "text": [
      "[Parallel(n_jobs=4)]: Done  36 out of  40 | elapsed:    2.4s remaining:    0.3s\n"
     ]
    },
    {
     "name": "stdout",
     "output_type": "stream",
     "text": [
      "[CV]  colsample_bytree=0.7, silent=1, learning_rate=0.3, nthread=4, min_child_weight=3, n_estimators=100, subsample=0.7, seed=1337, objective=binary:logistic, max_depth=6, score=0.887931 -   0.1s\n",
      "0.74025974026\n"
     ]
    },
    {
     "name": "stderr",
     "output_type": "stream",
     "text": [
      "[Parallel(n_jobs=4)]: Done  40 out of  40 | elapsed:    2.6s finished\n"
     ]
    }
   ],
   "source": [
    "xgb_model = xgb.XGBClassifier()\n",
    "\n",
    "parameters = {'nthread':[4], #when use hyperthread, xgboost may become slower\n",
    "              'objective':['binary:logistic'],\n",
    "              'learning_rate': [0.3], #so called `eta` value\n",
    "              'max_depth': [5,6],\n",
    "              'min_child_weight': [3],\n",
    "              'silent': [1],\n",
    "              'subsample': [0.7],\n",
    "              'colsample_bytree': [0.7],\n",
    "              'n_estimators': [50,100], #number of trees\n",
    "              'seed': [1337]}\n",
    "\n",
    "clf = grid_search.GridSearchCV(xgb_model, parameters, n_jobs=4, \n",
    "                   cv=10 ,\n",
    "                   verbose=20, refit=True,scoring='roc_auc')\n",
    "\n",
    "clf.fit(train_X, train_y)\n",
    "\n",
    "y_test_predict = clf.predict(test_X)\n",
    "actuals = test_y\n",
    "score = metrics.accuracy_score(test_y, y_test_predict)\n",
    "print score"
   ]
  },
  {
   "cell_type": "code",
   "execution_count": null,
   "metadata": {
    "collapsed": true
   },
   "outputs": [],
   "source": []
  }
 ],
 "metadata": {
  "kernelspec": {
   "display_name": "Python 2",
   "language": "python",
   "name": "python2"
  },
  "language_info": {
   "codemirror_mode": {
    "name": "ipython",
    "version": 2
   },
   "file_extension": ".py",
   "mimetype": "text/x-python",
   "name": "python",
   "nbconvert_exporter": "python",
   "pygments_lexer": "ipython2",
   "version": "2.7.12"
  }
 },
 "nbformat": 4,
 "nbformat_minor": 1
}
