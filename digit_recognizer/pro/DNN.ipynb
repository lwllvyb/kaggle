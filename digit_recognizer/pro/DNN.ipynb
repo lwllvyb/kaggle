{
 "cells": [
  {
   "cell_type": "code",
   "execution_count": 156,
   "metadata": {
    "collapsed": true
   },
   "outputs": [],
   "source": [
    "import numpy as np\n",
    "import pandas as pd\n",
    "import tensorflow as tf\n",
    "\n",
    "%matplotlib inline\n",
    "import matplotlib.pyplot as plt\n",
    "import matplotlib.cm as cm\n",
    "from tensorflow.examples.tutorials.mnist import input_data"
   ]
  },
  {
   "cell_type": "code",
   "execution_count": 157,
   "metadata": {
    "collapsed": true
   },
   "outputs": [],
   "source": [
    "LEARNING_RATE = 1e-4\n",
    "\n",
    "# iterations for training\n",
    "TRAINING_ITERATIONS = 2500\n",
    "\n",
    "# avoid overfitting\n",
    "DROPOUT = 0.5\n",
    "\n",
    "BATCH_SIZE = 50\n",
    "\n",
    "VALIDATION_SIZE = 2000\n",
    "\n",
    "IMAGE_TO_DISPLAY = 10"
   ]
  },
  {
   "cell_type": "code",
   "execution_count": 158,
   "metadata": {
    "collapsed": false
   },
   "outputs": [
    {
     "name": "stdout",
     "output_type": "stream",
     "text": [
      "Extracting ../../MNIST_data/train-images-idx3-ubyte.gz\n",
      "Extracting ../../MNIST_data/train-labels-idx1-ubyte.gz\n",
      "Extracting ../../MNIST_data/t10k-images-idx3-ubyte.gz\n",
      "Extracting ../../MNIST_data/t10k-labels-idx1-ubyte.gz\n"
     ]
    }
   ],
   "source": [
    "data = input_data.read_data_sets('../../MNIST_data', one_hot=True)"
   ]
  },
  {
   "cell_type": "code",
   "execution_count": 159,
   "metadata": {
    "collapsed": false
   },
   "outputs": [],
   "source": [
    "# # 1. handle data\n",
    "\n",
    "# images = data.iloc[:, 1:].values\n",
    "# images = images.astype(np.float)\n",
    "\n",
    "# images = np.multiply(images, 1.0 / 255.0)\n",
    "\n",
    "# print (images.shape)\n",
    "\n",
    "# image_size = images.shape[1]\n",
    "\n",
    "# image_width = image_height = np.ceil(np.sqrt(image_size)).astype(np.uint8)\n",
    "\n",
    "# print(image_width, image_height)\n",
    "\n",
    "# def Display(img):\n",
    "#     one_image = img.reshape(image_width, image_height)\n",
    "    \n",
    "#     plt.axis('off')\n",
    "#     plt.imshow(one_image, cmap=cm.binary)\n",
    "\n",
    "# Display(images[IMAGE_TO_DISPLAY + 1])\n",
    "\n",
    "# # 2. handle label\n",
    "\n",
    "# label_flat = data[[0]].values.ravel()\n",
    "# labels_count = np.unique(label_flat).shape[0]\n",
    "\n",
    "# ## 2.1 one hot encode labels\n",
    "\n",
    "# # def DenseToOneHot(labels):\n",
    "# #     num_labels = labels.shape[0]\n",
    "# #     num_classes = np.unique(label_flat).shape[0]\n",
    "# #     index_offset = np.arange(num_labels) * num_classes\n",
    "\n",
    "# #     labels_one_hot = np.zeros((num_labels, num_classes))\n",
    "# #     labels_one_hot.flat[index_offset + labels.ravel()] = 1\n",
    "# #     return labels_one_hot\n",
    "\n",
    "# # labels = DenseToOneHot(label_flat)\n",
    "# # print labels.shape\n",
    "\n",
    "# # use sklearn to onhotencoder labels\n",
    "\n",
    "# from sklearn.preprocessing import OneHotEncoder\n",
    "\n",
    "# labels_reshape = label_flat.reshape(label_flat.shape[0], 1)\n",
    "\n",
    "# enc = OneHotEncoder().fit_transform(labels_reshape)\n",
    "\n",
    "# labels = enc.toarray()\n",
    "\n",
    "# # 3. split data to train and test data\n",
    "\n",
    "# from sklearn.cross_validation import train_test_split\n",
    "\n",
    "# train_images, test_images, train_labels, test_labels = train_test_split(images, labels, random_state=2016, test_size=.4)"
   ]
  },
  {
   "cell_type": "code",
   "execution_count": null,
   "metadata": {
    "collapsed": false
   },
   "outputs": [],
   "source": [
    "def WeightVariable(shape):\n",
    "    initial = tf.truncated_normal(shape, stddev=0.1)\n",
    "    return tf.Variable(initial)\n",
    "\n",
    "def BiasVariabel(shape):\n",
    "    initial = tf.constant(0.1, shape=shape)\n",
    "    return tf.Variable(initial)\n",
    "\n",
    "def Conv2d(x, W):\n",
    "    return tf.nn.conv2d(x, W, strides=[1, 1, 1, 1], padding='SAME')\n",
    "\n",
    "def MaxPoll2X2(x):\n",
    "    return tf.nn.max_pool(x, ksize=[1, 2, 2, 1], strides=[1, 2, 2, 1], padding='SAME')\n",
    "\n",
    "\n",
    "\n",
    "# define placeholder for inputs to network\n",
    "xs = tf.placeholder(tf.float32, [None, 784]) # 28x28\n",
    "ys = tf.placeholder(tf.float32, [None, 10])\n",
    "keep_prob = tf.placeholder(tf.float32)\n",
    "x_image = tf.reshape(xs, [-1, 28, 28, 1])\n",
    "# print(x_image.shape)  # [n_samples, 28,28,1]\n",
    "\n",
    "## conv1 layer ##\n",
    "W_conv1 = WeightVariable([5,5, 1,32]) # patch 5x5, in size 1, out size 32\n",
    "b_conv1 = BiasVariabel([32])\n",
    "h_conv1 = tf.nn.relu(Conv2d(x_image, W_conv1) + b_conv1) # output size 28x28x32\n",
    "h_pool1 = MaxPoll2X2(h_conv1)                                         # output size 14x14x32\n",
    "\n",
    "\n",
    "W_conv2 = WeightVariable([5, 5, 32, 64])\n",
    "b_conv2 = BiasVariabel([64])\n",
    "h_conv2 = tf.nn.relu(Conv2d(h_pool1, W_conv2) + b_conv2)\n",
    "h_pool2 = MaxPoll2X2(h_conv2)\n",
    "\n",
    "\n",
    "W_fc1 = WeightVariable([7*7*64, 1024])\n",
    "b_fcl = BiasVariabel([1024])\n",
    "\n",
    "h_pool2_flat = tf.reshape(h_pool2, [-1, 7*7*64])\n",
    "h_fc1 = tf.nn.relu(tf.matmul(h_pool2_flat , W_fc1) + b_fcl)\n",
    "h_fc1_drop = tf.nn.dropout(h_fc1, keep_prob)\n",
    "\n",
    "W_fc2 = WeightVariable([1024, 10])\n",
    "b_fc2 = BiasVariabel([10])\n",
    "y = tf.nn.softmax(tf.matmul(h_fc1_drop, W_fc2) + b_fc2)\n",
    "\n",
    "cross_entropy = tf.reduce_mean(-tf.reduce_sum(ys * tf.log(y), reduction_indices=[1]))\n",
    "\n",
    "train_step = tf.train.AdamOptimizer(1e-4).minimize(cross_entropy)\n",
    "\n",
    "sess = tf.Session()\n",
    "sess.run(tf.initialize_all_variables())\n",
    "\n",
    "#print batch\n",
    "\n",
    "for step in range(TRAINING_ITERATIONS):\n",
    "    batch_xs, batch_ys = data.train.next_batch(100)\n",
    "\n",
    "\n",
    "    sess.run(train_step, feed_dict={xs: batch_xs, ys: batch_ys, keep_prob: 0.5})"
   ]
  },
  {
   "cell_type": "code",
   "execution_count": null,
   "metadata": {
    "collapsed": false
   },
   "outputs": [],
   "source": [
    "batch = np.random.randint(images.shape[0], size=BATCH_SIZE)\n",
    "print labels[batch]"
   ]
  },
  {
   "cell_type": "code",
   "execution_count": null,
   "metadata": {
    "collapsed": true
   },
   "outputs": [],
   "source": []
  },
  {
   "cell_type": "code",
   "execution_count": null,
   "metadata": {
    "collapsed": true
   },
   "outputs": [],
   "source": []
  },
  {
   "cell_type": "code",
   "execution_count": null,
   "metadata": {
    "collapsed": true
   },
   "outputs": [],
   "source": []
  },
  {
   "cell_type": "code",
   "execution_count": null,
   "metadata": {
    "collapsed": true
   },
   "outputs": [],
   "source": []
  }
 ],
 "metadata": {
  "kernelspec": {
   "display_name": "Python 2",
   "language": "python",
   "name": "python2"
  },
  "language_info": {
   "codemirror_mode": {
    "name": "ipython",
    "version": 2
   },
   "file_extension": ".py",
   "mimetype": "text/x-python",
   "name": "python",
   "nbconvert_exporter": "python",
   "pygments_lexer": "ipython2",
   "version": "2.7.12"
  }
 },
 "nbformat": 4,
 "nbformat_minor": 1
}
