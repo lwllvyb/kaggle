{
 "cells": [
  {
   "cell_type": "code",
   "execution_count": 9,
   "metadata": {
    "collapsed": false
   },
   "outputs": [],
   "source": [
    "#coding=utf-8\n",
    "import xgboost as xgb\n",
    "import pandas as pd\n",
    "import time \n",
    "import numpy as np\n",
    "from sklearn import metrics\n"
   ]
  },
  {
   "cell_type": "code",
   "execution_count": 12,
   "metadata": {
    "collapsed": false
   },
   "outputs": [
    {
     "name": "stdout",
     "output_type": "stream",
     "text": [
      "[0]\ttrain-merror:0.105686\tval-merror:0.142286\n",
      "Multiple eval metrics have been passed: 'val-merror' will be used for early stopping.\n",
      "\n",
      "Will train until val-merror hasn't improved in 100 rounds.\n",
      "[1]\ttrain-merror:0.070286\tval-merror:0.099\n",
      "[2]\ttrain-merror:0.057257\tval-merror:0.084571\n",
      "[3]\ttrain-merror:0.050971\tval-merror:0.078143\n",
      "[4]\ttrain-merror:0.048\tval-merror:0.075429\n",
      "[5]\ttrain-merror:0.046143\tval-merror:0.071286\n",
      "[6]\ttrain-merror:0.044771\tval-merror:0.068143\n",
      "[7]\ttrain-merror:0.043\tval-merror:0.067\n",
      "[8]\ttrain-merror:0.041829\tval-merror:0.068429\n",
      "[9]\ttrain-merror:0.040343\tval-merror:0.067143\n",
      "[10]\ttrain-merror:0.039457\tval-merror:0.065857\n",
      "[11]\ttrain-merror:0.038686\tval-merror:0.066857\n",
      "[12]\ttrain-merror:0.038686\tval-merror:0.067286\n",
      "[13]\ttrain-merror:0.0384\tval-merror:0.065\n",
      "[14]\ttrain-merror:0.037514\tval-merror:0.064714\n",
      "[15]\ttrain-merror:0.036457\tval-merror:0.064\n",
      "[16]\ttrain-merror:0.036086\tval-merror:0.062714\n",
      "[17]\ttrain-merror:0.035714\tval-merror:0.062714\n",
      "[18]\ttrain-merror:0.035657\tval-merror:0.062714\n",
      "[19]\ttrain-merror:0.0354\tval-merror:0.062\n"
     ]
    }
   ],
   "source": [
    "now = time.time()\n",
    "\n",
    "dataset = pd.read_csv(\"./data/train.csv\") # 注意自己数据路径\n",
    "\n",
    "train = dataset.iloc[:,1:].values\n",
    "labels = dataset.iloc[:,:1].values\n",
    "\n",
    "tests = pd.read_csv(\"./data/test.csv\") # 注意自己数据路径\n",
    "\n",
    "#test_id = range(len(tests))\n",
    "test = tests.iloc[:,:].values\n",
    "\n",
    "params={\n",
    "'booster':'gbtree',\n",
    "# 这里手写数字是0-9，是一个多类的问题，因此采用了multisoft多分类器，\n",
    "'objective': 'multi:softmax', \n",
    "'num_class':10, # 类数，与 multisoftmax 并用\n",
    "'gamma':0.05,  # 在树的叶子节点下一个分区的最小损失，越大算法模型越保守 。[0:]\n",
    "'max_depth':12, # 构建树的深度 [1:]\n",
    "\n",
    "#'lambda':450,  # L2 正则项权重\n",
    "'subsample':0.4, # 采样训练数据，设置为0.5，随机选择一般的数据实例 (0:1]\n",
    "'colsample_bytree':0.7, # 构建树树时的采样比率 (0:1]\n",
    "#'min_child_weight':12, # 节点的最少特征数\n",
    "'silent':1 ,\n",
    "'eta': 0.005, # 如同学习率\n",
    "'seed':710,\n",
    "'nthread':4,# cpu 线程数,根据自己U的个数适当调整\n",
    "}\n",
    "\n",
    "plst = list(params.items())\n",
    "\n",
    "#Using 10000 rows for early stopping. \n",
    "offset = 35000  # 训练集中数据50000，划分35000用作训练，15000用作验证\n",
    "\n",
    "num_rounds = 20 # 迭代你次数\n",
    "xgtest = xgb.DMatrix(test)\n",
    "\n",
    "# 划分训练集与验证集 \n",
    "xgtrain = xgb.DMatrix(train[:offset,:], label=labels[:offset])\n",
    "xgval = xgb.DMatrix(train[offset:,:], label=labels[offset:])\n",
    "\n",
    "\n",
    "# return 训练和验证的错误率\n",
    "watchlist = [(xgtrain, 'train'),(xgval, 'val')]\n",
    "\n",
    "# training model \n",
    "# early_stopping_rounds 当设置的迭代次数较大时，early_stopping_rounds 可在一定的迭代次数内准确率没有提升就停止训练\n",
    "model = xgb.train(plst, xgtrain, num_rounds, watchlist,early_stopping_rounds=100)\n"
   ]
  },
  {
   "cell_type": "code",
   "execution_count": null,
   "metadata": {
    "collapsed": true
   },
   "outputs": [],
   "source": [
    "#model.save_model('./model/xgb.model') # 用于存储训练出的模型\n",
    "preds = model.predict(xgtest,ntree_limit=model.best_iteration)\n",
    "print metrics.accuracy_score(tests.iloc[:,:1].values, preds)\n",
    "\n",
    "# 将预测结果写入文件，方式有很多，自己顺手能实现即可\n",
    "np.savetxt('submission_xgb_MultiSoftmax.csv',np.c_[range(1,len(test)+1),preds],\n",
    "            delimiter=',',header='ImageId,Label',comments='',fmt='%d')\n",
    "\n",
    "cost_time = time.time()-now\n",
    "\n",
    "print \"end ......\",'\\n',\"cost time:\",cost_time,\"(s)......\""
   ]
  }
 ],
 "metadata": {
  "kernelspec": {
   "display_name": "Python 2",
   "language": "python",
   "name": "python2"
  }
 },
 "nbformat": 4,
 "nbformat_minor": 1
}
